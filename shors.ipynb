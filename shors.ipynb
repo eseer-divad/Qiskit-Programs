{
 "cells": [
  {
   "cell_type": "code",
   "execution_count": null,
   "metadata": {},
   "outputs": [],
   "source": [
    "# Install dependencies with pip (needed for Codespaces)\n",
    "!pip install qiskit matplotlib pylatexenc qiskit_ibm_runtime"
   ]
  }
 ],
 "metadata": {
  "language_info": {
   "name": "python"
  }
 },
 "nbformat": 4,
 "nbformat_minor": 2
}
